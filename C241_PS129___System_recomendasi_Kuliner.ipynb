{
  "cells": [
    {
      "cell_type": "markdown",
      "metadata": {
        "id": "F81vEpMxFkE8"
      },
      "source": [
        "#Data Preparation"
      ]
    },
    {
      "cell_type": "markdown",
      "metadata": {
        "id": "S-2K4saSHWii"
      },
      "source": [
        "Install dan import package"
      ]
    },
    {
      "cell_type": "code",
      "execution_count": null,
      "metadata": {
        "id": "F6rHjkDKG4RW"
      },
      "outputs": [],
      "source": [
        "import pandas as pd\n",
        "import numpy as np\n",
        "import tensorflow as tf\n",
        "from sklearn.model_selection import train_test_split\n",
        "from sklearn.preprocessing import LabelEncoder\n",
        "from sklearn.feature_extraction.text import TfidfVectorizer\n",
        "from sklearn.metrics.pairwise import cosine_similarity"
      ]
    },
    {
      "cell_type": "markdown",
      "metadata": {
        "id": "GpkwM_u4H3Ib"
      },
      "source": [
        "Read Dataset"
      ]
    },
    {
      "cell_type": "code",
      "execution_count": null,
      "metadata": {
        "colab": {
          "base_uri": "https://localhost:8080/"
        },
        "id": "UxGykiwmHGXH",
        "outputId": "fb97ce9a-fbb8-4ca3-d0c5-283e9f1a9bc5"
      },
      "outputs": [
        {
          "output_type": "stream",
          "name": "stdout",
          "text": [
            "  resto_id                                      nama_restoran  \\\n",
            "0   RT01J1                Mie Bandung Chinese Food, Ngampilan   \n",
            "1   RT02J1  Soto Tauco Pekalongan Bu Iswi, Jalan Bimokurdo...   \n",
            "2   RT03J1                  Bakso Urat dan Mie Ayam \"Pak Mir\"   \n",
            "3   RT04J1  Soto Ayam Kampung Dan Soto Daging Sapi Pak Gendut   \n",
            "4   RT05J1                                          Toba Tabo   \n",
            "\n",
            "  preferensi_makanan lokasi_restoran  Harga_Rata-Rata_Makanan_di_Toko (Rp)  \\\n",
            "0            Chinese         3.23 km                                 39000   \n",
            "1          Indonesia         3.01 km                                 19000   \n",
            "2          Indonesia         1.44 km                                 18000   \n",
            "3          Indonesia         0.83 km                                 22000   \n",
            "4            Chinese         2.13 km                                 40000   \n",
            "\n",
            "   rating_toko jenis_suasana toko_sering_diskon_(Ya/Tidak)  \\\n",
            "0          4.7        Santai                         Tidak   \n",
            "1          3.7        Santai                         Tidak   \n",
            "2          3.6        Santai                         Tidak   \n",
            "3          3.8        Santai                         Tidak   \n",
            "4          4.7        Santai                         Tidak   \n",
            "\n",
            "                                     variasi_makanan  \\\n",
            "0  Bakmi, Nasi Goreng, Mie Ayam, Kwetiaw, Bakso P...   \n",
            "1  Bakso, Soto Tauco, Lontong, Es Teh, Es Jeruk, ...   \n",
            "2         Bakso, Sop Ayam, Jajanan, Es Jeruk, Es Teh   \n",
            "3  Soto Daging, Soto Ayam, Perkedel, Es Teh, Es J...   \n",
            "4  Sate Babi, Babi Kecap, Bakmi Babi, Kopi, Es Ko...   \n",
            "\n",
            "  pelayanan_khusus_pasangan_(Ya/Tidak)  entertainment  keramaian_restoran  \\\n",
            "0                                Tidak              3                   3   \n",
            "1                                Tidak              2                   2   \n",
            "2                                Tidak              2                   2   \n",
            "3                                Tidak              1                   2   \n",
            "4                                Tidak              1                   3   \n",
            "\n",
            "  disajikan/ambil_sendiri all_you_can_eat/ala_carte  \\\n",
            "0               Disajikan                 Ala Carte   \n",
            "1               Disajikan                 Ala Carte   \n",
            "2               Disajikan                 Ala Carte   \n",
            "3               Disajikan                 Ala Carte   \n",
            "4               Disajikan                 Ala Carte   \n",
            "\n",
            "                                      Lokasi  \n",
            "0  https://maps.app.goo.gl/yEFoAbWDFhBcanBZ9  \n",
            "1  https://maps.app.goo.gl/j9gT3yrbncuXKaC48  \n",
            "2  https://maps.app.goo.gl/HLC7w9tvJ9wzLMNWA  \n",
            "3  https://maps.app.goo.gl/rfywQEnYXS61CDRj6  \n",
            "4  https://maps.app.goo.gl/oJM1xoJi1ttNvh9r7  \n",
            "  mami_id makanan/minuman      kategori   \\\n",
            "0  MKJ001    Sate Klathak  Makanan Berat   \n",
            "1  MKJ002    Soto Kambing  Makanan Berat   \n",
            "2  MKJ003    Sate Kambing  Makanan Berat   \n",
            "3  MKJ004     Wedang Uwuh        Minuman   \n",
            "4  MKJ005          Bakpia        Jajanan   \n",
            "\n",
            "                                deskripsi_rasa  \\\n",
            "0                   Gurih, pedas, juicy, smoky   \n",
            "1  Gurih, pedas, rempah, segar, lezat, berkuah   \n",
            "2      Gurih, pedas, juicy, smoky, asin, manis   \n",
            "3                 Manis, hangat, rempah, segar   \n",
            "4                 Manis, lembut, gurih, kacang   \n",
            "\n",
            "                                                foto  \n",
            "0  https://storage.googleapis.com/c241-ps129-4268...  \n",
            "1  https://storage.googleapis.com/c241-ps129-4268...  \n",
            "2  https://storage.googleapis.com/c241-ps129-4268...  \n",
            "3  https://storage.googleapis.com/c241-ps129-4268...  \n",
            "4  https://storage.googleapis.com/c241-ps129-4268...  \n"
          ]
        }
      ],
      "source": [
        "data_restaurant=\"https://docs.google.com/spreadsheets/d/e/2PACX-1vTyCBQxA1HyRnQWj-RXf-_5DXKn3L90Td0aO5r8DsTtE7pO3IQbPVvcuhfaCmJvTwiD_Hhvw34Xzbya/pub?gid=2129966204&single=true&output=csv\"\n",
        "data_makanminum=\"https://docs.google.com/spreadsheets/d/e/2PACX-1vTyCBQxA1HyRnQWj-RXf-_5DXKn3L90Td0aO5r8DsTtE7pO3IQbPVvcuhfaCmJvTwiD_Hhvw34Xzbya/pub?gid=477290477&single=true&output=csv\"\n",
        "\n",
        "# membaca kedua sheet ke dalam DataFrame\n",
        "data_resto = pd.read_csv(data_restaurant)\n",
        "data_makmin = pd.read_csv(data_makanminum)\n",
        "\n",
        "print(data_resto.head())\n",
        "print(data_makmin.head())"
      ]
    },
    {
      "cell_type": "markdown",
      "metadata": {
        "id": "w38DLQE_acUO"
      },
      "source": [
        "Memilih kolom yang digunakan"
      ]
    },
    {
      "cell_type": "code",
      "execution_count": null,
      "metadata": {
        "colab": {
          "base_uri": "https://localhost:8080/"
        },
        "id": "PPDq-hBoa_5n",
        "outputId": "1230d2c0-41ba-4f40-bcf3-14ed6f02e547"
      },
      "outputs": [
        {
          "output_type": "stream",
          "name": "stdout",
          "text": [
            "\n",
            "Dataset dengan kolom terpilih:\n",
            "  makanan/minuman       kategori                               deskripsi_rasa\n",
            "0    Sate Klathak  Makanan Berat                   Gurih, pedas, juicy, smoky\n",
            "1    Soto Kambing  Makanan Berat  Gurih, pedas, rempah, segar, lezat, berkuah\n",
            "2    Sate Kambing  Makanan Berat      Gurih, pedas, juicy, smoky, asin, manis\n",
            "3     Wedang Uwuh        Minuman                 Manis, hangat, rempah, segar\n",
            "4          Bakpia        Jajanan                 Manis, lembut, gurih, kacang\n"
          ]
        }
      ],
      "source": [
        "data_makmin.columns = data_makmin.columns.str.strip()\n",
        "\n",
        "columns_to_select = ['makanan/minuman', 'kategori', 'deskripsi_rasa']\n",
        "makanan_data = data_makmin[columns_to_select]\n",
        "\n",
        "print(\"\\nDataset dengan kolom terpilih:\")\n",
        "print(makanan_data.head())"
      ]
    },
    {
      "cell_type": "code",
      "execution_count": null,
      "metadata": {
        "colab": {
          "base_uri": "https://localhost:8080/"
        },
        "id": "tXhQS8QdJB6u",
        "outputId": "1ac4881e-d09e-423e-c089-e854176c18ed"
      },
      "outputs": [
        {
          "output_type": "stream",
          "name": "stdout",
          "text": [
            "\n",
            "Dataset dengan kolom terpilih:\n",
            "                                       nama_restoran  rating_toko  \\\n",
            "0                Mie Bandung Chinese Food, Ngampilan          4.7   \n",
            "1  Soto Tauco Pekalongan Bu Iswi, Jalan Bimokurdo...          3.7   \n",
            "2                  Bakso Urat dan Mie Ayam \"Pak Mir\"          3.6   \n",
            "3  Soto Ayam Kampung Dan Soto Daging Sapi Pak Gendut          3.8   \n",
            "4                                          Toba Tabo          4.7   \n",
            "\n",
            "                                     variasi_makanan  \n",
            "0  Bakmi, Nasi Goreng, Mie Ayam, Kwetiaw, Bakso P...  \n",
            "1  Bakso, Soto Tauco, Lontong, Es Teh, Es Jeruk, ...  \n",
            "2         Bakso, Sop Ayam, Jajanan, Es Jeruk, Es Teh  \n",
            "3  Soto Daging, Soto Ayam, Perkedel, Es Teh, Es J...  \n",
            "4  Sate Babi, Babi Kecap, Bakmi Babi, Kopi, Es Ko...  \n"
          ]
        }
      ],
      "source": [
        "#memilih kolom sheet data restoran\n",
        "data_resto.columns = data_resto.columns.str.strip()\n",
        "\n",
        "columns_select = ['nama_restoran', 'rating_toko', 'variasi_makanan']\n",
        "restoran_data = data_resto[columns_select]\n",
        "\n",
        "print(\"\\nDataset dengan kolom terpilih:\")\n",
        "print(restoran_data.head())"
      ]
    },
    {
      "cell_type": "markdown",
      "source": [
        "Pre processing"
      ],
      "metadata": {
        "id": "vfE3pH8XFRkH"
      }
    },
    {
      "cell_type": "code",
      "source": [
        "# Menangani nilai NaN dalam kolom 'deskripsi_rasa'\n",
        "makanan_data['deskripsi_rasa'].fillna('', inplace=True)\n",
        "\n",
        "# Encoding kategori makanan\n",
        "label_encoder = LabelEncoder()\n",
        "makanan_data['kategori_Encoded'] = label_encoder.fit_transform(makanan_data['kategori'])\n",
        "\n",
        "# Membagi dataset menjadi data latih dan data uji\n",
        "X_train, X_test, y_train, y_test = train_test_split(makanan_data['deskripsi_rasa'],\n",
        "                                                    makanan_data['kategori_Encoded'],\n",
        "                                                    test_size=0.2, random_state=42)\n",
        "\n",
        "# Membuat vektor fitur dari deskripsi rasa menggunakan TfidfVectorizer\n",
        "vectorizer = TfidfVectorizer()\n",
        "X_train_vec = vectorizer.fit_transform(X_train).toarray()  # Konversi ke bentuk array\n",
        "X_test_vec = vectorizer.transform(X_test).toarray() # Konversi ke bentuk array"
      ],
      "metadata": {
        "id": "Kr2-9UtMFWz9",
        "colab": {
          "base_uri": "https://localhost:8080/"
        },
        "outputId": "cdddcc92-7f73-479f-e5b6-35d28550762e"
      },
      "execution_count": null,
      "outputs": [
        {
          "output_type": "stream",
          "name": "stderr",
          "text": [
            "<ipython-input-5-467fe049e757>:2: SettingWithCopyWarning: \n",
            "A value is trying to be set on a copy of a slice from a DataFrame\n",
            "\n",
            "See the caveats in the documentation: https://pandas.pydata.org/pandas-docs/stable/user_guide/indexing.html#returning-a-view-versus-a-copy\n",
            "  makanan_data['deskripsi_rasa'].fillna('', inplace=True)\n",
            "<ipython-input-5-467fe049e757>:6: SettingWithCopyWarning: \n",
            "A value is trying to be set on a copy of a slice from a DataFrame.\n",
            "Try using .loc[row_indexer,col_indexer] = value instead\n",
            "\n",
            "See the caveats in the documentation: https://pandas.pydata.org/pandas-docs/stable/user_guide/indexing.html#returning-a-view-versus-a-copy\n",
            "  makanan_data['kategori_Encoded'] = label_encoder.fit_transform(makanan_data['kategori'])\n"
          ]
        }
      ]
    },
    {
      "cell_type": "markdown",
      "metadata": {
        "id": "e2WauhY9GPmV"
      },
      "source": [
        "# Membangun model rekomendasi makanan bedasarkan deskripsi rasa"
      ]
    },
    {
      "cell_type": "code",
      "execution_count": null,
      "metadata": {
        "id": "3rdm1qRgerxp"
      },
      "outputs": [],
      "source": [
        "# Membangun model\n",
        "model = tf.keras.Sequential([\n",
        "    tf.keras.layers.Dense(256, activation='relu', input_shape=(X_train_vec.shape[1],)),\n",
        "    tf.keras.layers.Dropout(0.5),\n",
        "    tf.keras.layers.Dense(128, activation='relu'),\n",
        "    tf.keras.layers.Dropout(0.5),\n",
        "    tf.keras.layers.Dense(64, activation='relu'),\n",
        "    tf.keras.layers.Dropout(0.5),\n",
        "    tf.keras.layers.Dense(len(label_encoder.classes_), activation='softmax')\n",
        "])"
      ]
    },
    {
      "cell_type": "code",
      "execution_count": null,
      "metadata": {
        "id": "puZMwor3evaU"
      },
      "outputs": [],
      "source": [
        "# Create and compile the model\n",
        "model.compile(optimizer='adam',\n",
        "              loss='sparse_categorical_crossentropy',\n",
        "              metrics=['accuracy'])"
      ]
    },
    {
      "cell_type": "code",
      "execution_count": null,
      "metadata": {
        "colab": {
          "base_uri": "https://localhost:8080/"
        },
        "id": "lj1xj2Twe2yp",
        "outputId": "9691e847-7780-46ec-8d69-b846d685f673"
      },
      "outputs": [
        {
          "output_type": "stream",
          "name": "stdout",
          "text": [
            "Epoch 1/100\n",
            "7/7 [==============================] - 6s 108ms/step - loss: 1.9171 - accuracy: 0.1465 - val_loss: 1.8605 - val_accuracy: 0.4600\n",
            "Epoch 2/100\n",
            "7/7 [==============================] - 0s 25ms/step - loss: 1.8053 - accuracy: 0.3687 - val_loss: 1.7660 - val_accuracy: 0.4400\n",
            "Epoch 3/100\n",
            "7/7 [==============================] - 0s 36ms/step - loss: 1.6976 - accuracy: 0.4798 - val_loss: 1.6393 - val_accuracy: 0.4400\n",
            "Epoch 4/100\n",
            "7/7 [==============================] - 0s 23ms/step - loss: 1.5358 - accuracy: 0.5152 - val_loss: 1.5040 - val_accuracy: 0.4400\n",
            "Epoch 5/100\n",
            "7/7 [==============================] - 0s 20ms/step - loss: 1.4191 - accuracy: 0.5202 - val_loss: 1.4332 - val_accuracy: 0.4400\n",
            "Epoch 6/100\n",
            "7/7 [==============================] - 0s 35ms/step - loss: 1.4125 - accuracy: 0.5000 - val_loss: 1.4226 - val_accuracy: 0.4400\n",
            "Epoch 7/100\n",
            "7/7 [==============================] - 0s 25ms/step - loss: 1.3283 - accuracy: 0.5101 - val_loss: 1.3976 - val_accuracy: 0.4400\n",
            "Epoch 8/100\n",
            "7/7 [==============================] - 0s 22ms/step - loss: 1.2892 - accuracy: 0.5051 - val_loss: 1.3763 - val_accuracy: 0.4400\n",
            "Epoch 9/100\n",
            "7/7 [==============================] - 0s 17ms/step - loss: 1.3068 - accuracy: 0.5051 - val_loss: 1.3492 - val_accuracy: 0.4400\n",
            "Epoch 10/100\n",
            "7/7 [==============================] - 0s 23ms/step - loss: 1.2099 - accuracy: 0.5202 - val_loss: 1.3182 - val_accuracy: 0.4400\n",
            "Epoch 11/100\n",
            "7/7 [==============================] - 0s 35ms/step - loss: 1.2053 - accuracy: 0.5152 - val_loss: 1.2920 - val_accuracy: 0.4600\n",
            "Epoch 12/100\n",
            "7/7 [==============================] - 0s 20ms/step - loss: 1.2300 - accuracy: 0.5758 - val_loss: 1.2716 - val_accuracy: 0.4600\n",
            "Epoch 13/100\n",
            "7/7 [==============================] - 0s 36ms/step - loss: 1.1637 - accuracy: 0.5505 - val_loss: 1.2221 - val_accuracy: 0.5000\n",
            "Epoch 14/100\n",
            "7/7 [==============================] - 0s 16ms/step - loss: 1.0887 - accuracy: 0.6313 - val_loss: 1.1705 - val_accuracy: 0.6400\n",
            "Epoch 15/100\n",
            "7/7 [==============================] - 0s 17ms/step - loss: 1.0627 - accuracy: 0.6414 - val_loss: 1.1191 - val_accuracy: 0.7000\n",
            "Epoch 16/100\n",
            "7/7 [==============================] - 0s 15ms/step - loss: 1.0274 - accuracy: 0.7020 - val_loss: 1.0797 - val_accuracy: 0.7200\n",
            "Epoch 17/100\n",
            "7/7 [==============================] - 0s 15ms/step - loss: 0.9589 - accuracy: 0.7020 - val_loss: 1.0337 - val_accuracy: 0.7400\n",
            "Epoch 18/100\n",
            "7/7 [==============================] - 0s 22ms/step - loss: 0.9186 - accuracy: 0.7475 - val_loss: 0.9806 - val_accuracy: 0.7200\n",
            "Epoch 19/100\n",
            "7/7 [==============================] - 0s 16ms/step - loss: 0.8385 - accuracy: 0.7879 - val_loss: 0.9513 - val_accuracy: 0.7400\n",
            "Epoch 20/100\n",
            "7/7 [==============================] - 0s 33ms/step - loss: 0.7982 - accuracy: 0.7929 - val_loss: 0.9401 - val_accuracy: 0.7200\n",
            "Epoch 21/100\n",
            "7/7 [==============================] - 0s 33ms/step - loss: 0.7681 - accuracy: 0.7879 - val_loss: 0.9153 - val_accuracy: 0.7200\n",
            "Epoch 22/100\n",
            "7/7 [==============================] - 0s 24ms/step - loss: 0.7888 - accuracy: 0.7727 - val_loss: 0.9173 - val_accuracy: 0.7200\n",
            "Epoch 23/100\n",
            "7/7 [==============================] - 0s 15ms/step - loss: 0.7638 - accuracy: 0.7980 - val_loss: 0.9066 - val_accuracy: 0.7200\n",
            "Epoch 24/100\n",
            "7/7 [==============================] - 0s 21ms/step - loss: 0.6438 - accuracy: 0.8131 - val_loss: 0.8995 - val_accuracy: 0.7200\n",
            "Epoch 25/100\n",
            "7/7 [==============================] - 0s 15ms/step - loss: 0.6589 - accuracy: 0.8081 - val_loss: 0.9006 - val_accuracy: 0.7400\n",
            "Epoch 26/100\n",
            "7/7 [==============================] - 0s 27ms/step - loss: 0.6347 - accuracy: 0.8434 - val_loss: 0.9061 - val_accuracy: 0.7400\n",
            "Epoch 27/100\n",
            "7/7 [==============================] - 0s 51ms/step - loss: 0.5769 - accuracy: 0.8384 - val_loss: 0.9225 - val_accuracy: 0.7600\n",
            "Epoch 28/100\n",
            "7/7 [==============================] - 0s 42ms/step - loss: 0.6170 - accuracy: 0.8283 - val_loss: 0.9246 - val_accuracy: 0.7600\n",
            "Epoch 29/100\n",
            "7/7 [==============================] - 0s 41ms/step - loss: 0.5840 - accuracy: 0.8232 - val_loss: 0.9398 - val_accuracy: 0.7600\n",
            "Epoch 30/100\n",
            "7/7 [==============================] - 0s 48ms/step - loss: 0.5762 - accuracy: 0.8283 - val_loss: 0.9650 - val_accuracy: 0.7400\n",
            "Epoch 31/100\n",
            "7/7 [==============================] - 0s 43ms/step - loss: 0.5716 - accuracy: 0.8283 - val_loss: 0.9474 - val_accuracy: 0.7600\n",
            "Epoch 32/100\n",
            "7/7 [==============================] - 0s 35ms/step - loss: 0.5768 - accuracy: 0.8434 - val_loss: 0.9108 - val_accuracy: 0.7400\n",
            "Epoch 33/100\n",
            "7/7 [==============================] - 0s 40ms/step - loss: 0.5351 - accuracy: 0.8333 - val_loss: 0.9183 - val_accuracy: 0.7600\n",
            "Epoch 34/100\n",
            "7/7 [==============================] - 0s 48ms/step - loss: 0.4945 - accuracy: 0.8636 - val_loss: 0.9413 - val_accuracy: 0.7600\n",
            "Epoch 35/100\n",
            "7/7 [==============================] - 0s 31ms/step - loss: 0.5371 - accuracy: 0.8384 - val_loss: 0.9597 - val_accuracy: 0.7600\n",
            "Epoch 36/100\n",
            "7/7 [==============================] - 0s 36ms/step - loss: 0.5132 - accuracy: 0.8485 - val_loss: 0.9475 - val_accuracy: 0.7600\n",
            "Epoch 37/100\n",
            "7/7 [==============================] - 0s 35ms/step - loss: 0.5111 - accuracy: 0.8333 - val_loss: 0.9225 - val_accuracy: 0.7400\n",
            "Epoch 38/100\n",
            "7/7 [==============================] - 0s 31ms/step - loss: 0.4858 - accuracy: 0.8384 - val_loss: 0.9357 - val_accuracy: 0.7400\n",
            "Epoch 39/100\n",
            "7/7 [==============================] - 0s 23ms/step - loss: 0.5222 - accuracy: 0.8535 - val_loss: 0.9488 - val_accuracy: 0.7600\n",
            "Epoch 40/100\n",
            "7/7 [==============================] - 0s 25ms/step - loss: 0.4416 - accuracy: 0.8636 - val_loss: 0.9591 - val_accuracy: 0.7400\n",
            "Epoch 41/100\n",
            "7/7 [==============================] - 0s 31ms/step - loss: 0.4915 - accuracy: 0.8586 - val_loss: 0.9781 - val_accuracy: 0.7400\n",
            "Epoch 42/100\n",
            "7/7 [==============================] - 0s 58ms/step - loss: 0.4530 - accuracy: 0.8636 - val_loss: 1.0075 - val_accuracy: 0.7400\n",
            "Epoch 43/100\n",
            "7/7 [==============================] - 0s 29ms/step - loss: 0.5106 - accuracy: 0.8333 - val_loss: 1.0241 - val_accuracy: 0.7400\n",
            "Epoch 44/100\n",
            "7/7 [==============================] - 0s 23ms/step - loss: 0.4987 - accuracy: 0.8485 - val_loss: 1.0237 - val_accuracy: 0.7600\n",
            "Epoch 45/100\n",
            "7/7 [==============================] - 0s 35ms/step - loss: 0.4970 - accuracy: 0.8384 - val_loss: 1.0117 - val_accuracy: 0.7600\n",
            "Epoch 46/100\n",
            "7/7 [==============================] - 0s 32ms/step - loss: 0.4322 - accuracy: 0.8636 - val_loss: 0.9914 - val_accuracy: 0.7600\n",
            "Epoch 47/100\n",
            "7/7 [==============================] - 0s 36ms/step - loss: 0.4704 - accuracy: 0.8636 - val_loss: 0.9880 - val_accuracy: 0.7400\n",
            "Epoch 48/100\n",
            "7/7 [==============================] - 0s 26ms/step - loss: 0.4584 - accuracy: 0.8535 - val_loss: 1.0334 - val_accuracy: 0.7400\n",
            "Epoch 49/100\n",
            "7/7 [==============================] - 0s 25ms/step - loss: 0.4165 - accuracy: 0.8636 - val_loss: 1.0288 - val_accuracy: 0.7400\n",
            "Epoch 50/100\n",
            "7/7 [==============================] - 0s 19ms/step - loss: 0.4214 - accuracy: 0.8687 - val_loss: 0.9936 - val_accuracy: 0.7800\n",
            "Epoch 51/100\n",
            "7/7 [==============================] - 0s 19ms/step - loss: 0.3809 - accuracy: 0.8889 - val_loss: 0.9998 - val_accuracy: 0.7800\n",
            "Epoch 52/100\n",
            "7/7 [==============================] - 0s 19ms/step - loss: 0.4133 - accuracy: 0.8586 - val_loss: 0.9924 - val_accuracy: 0.7800\n",
            "Epoch 53/100\n",
            "7/7 [==============================] - 0s 24ms/step - loss: 0.4061 - accuracy: 0.8636 - val_loss: 0.9914 - val_accuracy: 0.7800\n",
            "Epoch 54/100\n",
            "7/7 [==============================] - 0s 19ms/step - loss: 0.4127 - accuracy: 0.8737 - val_loss: 1.0368 - val_accuracy: 0.7400\n",
            "Epoch 55/100\n",
            "7/7 [==============================] - 0s 15ms/step - loss: 0.3703 - accuracy: 0.8636 - val_loss: 1.0641 - val_accuracy: 0.7600\n",
            "Epoch 56/100\n",
            "7/7 [==============================] - 0s 17ms/step - loss: 0.4640 - accuracy: 0.8586 - val_loss: 1.0599 - val_accuracy: 0.7600\n",
            "Epoch 57/100\n",
            "7/7 [==============================] - 0s 17ms/step - loss: 0.3444 - accuracy: 0.8687 - val_loss: 1.0712 - val_accuracy: 0.7600\n",
            "Epoch 58/100\n",
            "7/7 [==============================] - 0s 19ms/step - loss: 0.3997 - accuracy: 0.8788 - val_loss: 1.0777 - val_accuracy: 0.7600\n",
            "Epoch 59/100\n",
            "7/7 [==============================] - 0s 18ms/step - loss: 0.3249 - accuracy: 0.8889 - val_loss: 1.1230 - val_accuracy: 0.7400\n",
            "Epoch 60/100\n",
            "7/7 [==============================] - 0s 18ms/step - loss: 0.3653 - accuracy: 0.8737 - val_loss: 1.1486 - val_accuracy: 0.7400\n",
            "Epoch 61/100\n",
            "7/7 [==============================] - 0s 22ms/step - loss: 0.3572 - accuracy: 0.8788 - val_loss: 1.1165 - val_accuracy: 0.7400\n",
            "Epoch 62/100\n",
            "7/7 [==============================] - 0s 18ms/step - loss: 0.3520 - accuracy: 0.8737 - val_loss: 1.0942 - val_accuracy: 0.7400\n",
            "Epoch 63/100\n",
            "7/7 [==============================] - 0s 19ms/step - loss: 0.3646 - accuracy: 0.8586 - val_loss: 1.1111 - val_accuracy: 0.7400\n",
            "Epoch 64/100\n",
            "7/7 [==============================] - 0s 18ms/step - loss: 0.3414 - accuracy: 0.8788 - val_loss: 1.1550 - val_accuracy: 0.7400\n",
            "Epoch 65/100\n",
            "7/7 [==============================] - 0s 18ms/step - loss: 0.3638 - accuracy: 0.8636 - val_loss: 1.1920 - val_accuracy: 0.7400\n",
            "Epoch 66/100\n",
            "7/7 [==============================] - 0s 18ms/step - loss: 0.3783 - accuracy: 0.8636 - val_loss: 1.1995 - val_accuracy: 0.7400\n",
            "Epoch 67/100\n",
            "7/7 [==============================] - 0s 17ms/step - loss: 0.3558 - accuracy: 0.8737 - val_loss: 1.1821 - val_accuracy: 0.7400\n",
            "Epoch 68/100\n",
            "7/7 [==============================] - 0s 14ms/step - loss: 0.3517 - accuracy: 0.8586 - val_loss: 1.1704 - val_accuracy: 0.7600\n",
            "Epoch 69/100\n",
            "7/7 [==============================] - 0s 17ms/step - loss: 0.3431 - accuracy: 0.8737 - val_loss: 1.1946 - val_accuracy: 0.7400\n",
            "Epoch 70/100\n",
            "7/7 [==============================] - 0s 14ms/step - loss: 0.3165 - accuracy: 0.8838 - val_loss: 1.2488 - val_accuracy: 0.7400\n",
            "Epoch 71/100\n",
            "7/7 [==============================] - 0s 18ms/step - loss: 0.3620 - accuracy: 0.8586 - val_loss: 1.2584 - val_accuracy: 0.7400\n",
            "Epoch 72/100\n",
            "7/7 [==============================] - 0s 19ms/step - loss: 0.3225 - accuracy: 0.8990 - val_loss: 1.2253 - val_accuracy: 0.7400\n",
            "Epoch 73/100\n",
            "7/7 [==============================] - 0s 19ms/step - loss: 0.3337 - accuracy: 0.8737 - val_loss: 1.2158 - val_accuracy: 0.7600\n",
            "Epoch 74/100\n",
            "7/7 [==============================] - 0s 17ms/step - loss: 0.3384 - accuracy: 0.8737 - val_loss: 1.2154 - val_accuracy: 0.7600\n",
            "Epoch 75/100\n",
            "7/7 [==============================] - 0s 17ms/step - loss: 0.3237 - accuracy: 0.8838 - val_loss: 1.2470 - val_accuracy: 0.7400\n",
            "Epoch 76/100\n",
            "7/7 [==============================] - 0s 17ms/step - loss: 0.2819 - accuracy: 0.9040 - val_loss: 1.3033 - val_accuracy: 0.7600\n",
            "Epoch 77/100\n",
            "7/7 [==============================] - 0s 17ms/step - loss: 0.3088 - accuracy: 0.8939 - val_loss: 1.3338 - val_accuracy: 0.7600\n",
            "Epoch 78/100\n",
            "7/7 [==============================] - 0s 17ms/step - loss: 0.3270 - accuracy: 0.8838 - val_loss: 1.3302 - val_accuracy: 0.7600\n",
            "Epoch 79/100\n",
            "7/7 [==============================] - 0s 17ms/step - loss: 0.2786 - accuracy: 0.9091 - val_loss: 1.3470 - val_accuracy: 0.7600\n",
            "Epoch 80/100\n",
            "7/7 [==============================] - 0s 15ms/step - loss: 0.2948 - accuracy: 0.8939 - val_loss: 1.3481 - val_accuracy: 0.7600\n",
            "Epoch 81/100\n",
            "7/7 [==============================] - 0s 18ms/step - loss: 0.2854 - accuracy: 0.8838 - val_loss: 1.3713 - val_accuracy: 0.7600\n",
            "Epoch 82/100\n",
            "7/7 [==============================] - 0s 19ms/step - loss: 0.3314 - accuracy: 0.8889 - val_loss: 1.3851 - val_accuracy: 0.7600\n",
            "Epoch 83/100\n",
            "7/7 [==============================] - 0s 17ms/step - loss: 0.3012 - accuracy: 0.8838 - val_loss: 1.3754 - val_accuracy: 0.7800\n",
            "Epoch 84/100\n",
            "7/7 [==============================] - 0s 19ms/step - loss: 0.3203 - accuracy: 0.8737 - val_loss: 1.3499 - val_accuracy: 0.7600\n",
            "Epoch 85/100\n",
            "7/7 [==============================] - 0s 18ms/step - loss: 0.2779 - accuracy: 0.8889 - val_loss: 1.3249 - val_accuracy: 0.7600\n",
            "Epoch 86/100\n",
            "7/7 [==============================] - 0s 19ms/step - loss: 0.2941 - accuracy: 0.8889 - val_loss: 1.3525 - val_accuracy: 0.7600\n",
            "Epoch 87/100\n",
            "7/7 [==============================] - 0s 21ms/step - loss: 0.3049 - accuracy: 0.8838 - val_loss: 1.3859 - val_accuracy: 0.7600\n",
            "Epoch 88/100\n",
            "7/7 [==============================] - 0s 17ms/step - loss: 0.2946 - accuracy: 0.8889 - val_loss: 1.4234 - val_accuracy: 0.7400\n",
            "Epoch 89/100\n",
            "7/7 [==============================] - 0s 19ms/step - loss: 0.2750 - accuracy: 0.9040 - val_loss: 1.3846 - val_accuracy: 0.7600\n",
            "Epoch 90/100\n",
            "7/7 [==============================] - 0s 22ms/step - loss: 0.2711 - accuracy: 0.8990 - val_loss: 1.3804 - val_accuracy: 0.7800\n",
            "Epoch 91/100\n",
            "7/7 [==============================] - 0s 25ms/step - loss: 0.2363 - accuracy: 0.9343 - val_loss: 1.4451 - val_accuracy: 0.7600\n",
            "Epoch 92/100\n",
            "7/7 [==============================] - 0s 13ms/step - loss: 0.2781 - accuracy: 0.8838 - val_loss: 1.5227 - val_accuracy: 0.7600\n",
            "Epoch 93/100\n",
            "7/7 [==============================] - 0s 15ms/step - loss: 0.2855 - accuracy: 0.8990 - val_loss: 1.5689 - val_accuracy: 0.7200\n",
            "Epoch 94/100\n",
            "7/7 [==============================] - 0s 14ms/step - loss: 0.2647 - accuracy: 0.8990 - val_loss: 1.5791 - val_accuracy: 0.7200\n",
            "Epoch 95/100\n",
            "7/7 [==============================] - 0s 16ms/step - loss: 0.3109 - accuracy: 0.8939 - val_loss: 1.5644 - val_accuracy: 0.7600\n",
            "Epoch 96/100\n",
            "7/7 [==============================] - 0s 17ms/step - loss: 0.2593 - accuracy: 0.8990 - val_loss: 1.5378 - val_accuracy: 0.7600\n",
            "Epoch 97/100\n",
            "7/7 [==============================] - 0s 14ms/step - loss: 0.2797 - accuracy: 0.8889 - val_loss: 1.5387 - val_accuracy: 0.7600\n",
            "Epoch 98/100\n",
            "7/7 [==============================] - 0s 21ms/step - loss: 0.2676 - accuracy: 0.8990 - val_loss: 1.5408 - val_accuracy: 0.7600\n",
            "Epoch 99/100\n",
            "7/7 [==============================] - 0s 15ms/step - loss: 0.2727 - accuracy: 0.8838 - val_loss: 1.5342 - val_accuracy: 0.7600\n",
            "Epoch 100/100\n",
            "7/7 [==============================] - 0s 17ms/step - loss: 0.2637 - accuracy: 0.9141 - val_loss: 1.5476 - val_accuracy: 0.7600\n"
          ]
        },
        {
          "output_type": "execute_result",
          "data": {
            "text/plain": [
              "<keras.src.callbacks.History at 0x77fdf34765f0>"
            ]
          },
          "metadata": {},
          "execution_count": 8
        }
      ],
      "source": [
        "# Train the model\n",
        "model.fit(X_train_vec,\n",
        "          y_train, epochs=100, validation_split=0.2)"
      ]
    },
    {
      "cell_type": "code",
      "source": [
        "#Evaluasi akurasi\n",
        "test_loss, test_acc = model.evaluate(X_test_vec, y_test)\n",
        "print('Test accuracy:', test_acc)"
      ],
      "metadata": {
        "id": "G6I-DBsbyv9G",
        "colab": {
          "base_uri": "https://localhost:8080/"
        },
        "outputId": "7500e3f7-bf6c-4f70-998a-a235ebf9c8ab"
      },
      "execution_count": null,
      "outputs": [
        {
          "output_type": "stream",
          "name": "stdout",
          "text": [
            "2/2 [==============================] - 0s 12ms/step - loss: 1.0798 - accuracy: 0.7903\n",
            "Test accuracy: 0.7903226017951965\n"
          ]
        }
      ]
    },
    {
      "cell_type": "code",
      "execution_count": null,
      "metadata": {
        "id": "g-JWJMWngAuK"
      },
      "outputs": [],
      "source": [
        "#Fungsi untuk merekomendasikan makanan/minuman bedasarkan inputan\n",
        "def recommend_makanan(category, taste):\n",
        "    # Vektorisasi input menggunakan TfidfVectorizer\n",
        "    input_vec = vectorizer.transform([taste]).toarray()\n",
        "\n",
        "    # Prediksi kategori\n",
        "    category_pred = model.predict(input_vec)\n",
        "\n",
        "    # Mendapatkan kategori yang diprediksi\n",
        "    predicted_category = label_encoder.inverse_transform([category_pred.argmax()])[0]\n",
        "\n",
        "    # Filter data berdasarkan kategori yang diprediksi\n",
        "    category_data = makanan_data[makanan_data['kategori'] == category]\n",
        "\n",
        "    # Vektorisasi deskripsi rasa dalam data latih\n",
        "    X_train_category = vectorizer.transform(category_data['deskripsi_rasa']).toarray()\n",
        "\n",
        "    # Hitung similarity scores antara input dan deskripsi makanan dalam data latih\n",
        "    similarity_scores = cosine_similarity(input_vec, X_train_category)\n",
        "\n",
        "    # Dapatkan indeks top 5 makanan yang paling mirip\n",
        "    top_indices = similarity_scores.argsort()[0][-5:][::-1]\n",
        "\n",
        "    # Dapatkan rekomendasi makanan berdasarkan kategori yang diprediksi\n",
        "    recommended_food = category_data.iloc[top_indices]['makanan/minuman'].values\n",
        "\n",
        "    return recommended_food"
      ]
    },
    {
      "cell_type": "markdown",
      "metadata": {
        "id": "n7-qZFM2lvpP"
      },
      "source": [
        "Inputan Dropdown button & free text (for testing)\n",
        "\n",
        "- Dropdown button untuk inputan kategori\n",
        "- Free text untuk inputan deskripsi rasa\n"
      ]
    },
    {
      "cell_type": "code",
      "source": [
        "# Contoh penggunaan\n",
        "category = 'Jajanan'\n",
        "taste = 'asin, gurih, renyah'\n",
        "recommended_food = recommend_makanan(category, taste)\n",
        "\n",
        "print(\"Rekomendasi makanan bedasarkan kategori '{}' dengan rasa '{}':\".format(category, taste))\n",
        "for idx, food in enumerate(recommended_food, 1):\n",
        "    print(\"{}. {}\".format(idx, food))"
      ],
      "metadata": {
        "colab": {
          "base_uri": "https://localhost:8080/"
        },
        "id": "PNFWtw8bUKTK",
        "outputId": "6db733e8-e04b-4227-9dff-89379159ca9c"
      },
      "execution_count": null,
      "outputs": [
        {
          "output_type": "stream",
          "name": "stdout",
          "text": [
            "1/1 [==============================] - 0s 168ms/step\n",
            "Rekomendasi makanan bedasarkan kategori 'Jajanan' dengan rasa 'asin, gurih, renyah':\n",
            "1. Lumpia\n",
            "2. Tempura\n",
            "3. Emping\n",
            "4. kentang Goreng\n",
            "5. Roti Bakar Keju\n"
          ]
        }
      ]
    },
    {
      "cell_type": "code",
      "source": [
        "import ipywidgets as widgets\n",
        "from IPython.display import display, clear_output\n",
        "\n",
        "# Fungsi untuk menangani aksi tombol submit\n",
        "def submit_action(b):\n",
        "    category = category_dropdown.value\n",
        "    taste = taste_input.value\n",
        "    recommended_makanan = recommend_makanan(category, taste)\n",
        "\n",
        "    # Membersihkan output sebelumnya\n",
        "    with output:\n",
        "        clear_output(wait=True)\n",
        "\n",
        "        # Menampilkan hasil rekomendasi makanan\n",
        "        print(f\"Rekomendasi makanan bedasarkan kategori '{category}' dengan rasa '{taste}':\")\n",
        "        for makanan in recommended_makanan:\n",
        "            print(f\"- {makanan}\")\n",
        "\n",
        "\n",
        "# Membuat dropdown untuk kategori\n",
        "category_options = ['Makanan Berat', 'Makanan Ringan', 'Jajanan', 'Minuman']\n",
        "category_dropdown = widgets.Dropdown(\n",
        "    options=category_options,\n",
        "    value=category_options[0],\n",
        "    description='Category:',\n",
        "    disabled=False,\n",
        ")\n",
        "\n",
        "# Membuat kolom input untuk rasa\n",
        "taste_input = widgets.Text(\n",
        "    value='',\n",
        "    placeholder='Enter taste',\n",
        "    description='Taste:',\n",
        "    disabled=False\n",
        ")\n",
        "\n",
        "# Membuat tombol submit\n",
        "submit_button = widgets.Button(\n",
        "    description='Submit',\n",
        "    disabled=False,\n",
        "    button_style='', # 'success', 'info', 'warning', 'danger' or ''\n",
        "    tooltip='Click me',\n",
        "    icon='check' # (FontAwesome names without the `fa-` prefix)\n",
        ")\n",
        "\n",
        "# Membuat widget output untuk menampilkan hasil\n",
        "output = widgets.Output()\n",
        "\n",
        "# Menambahkan event handler untuk tombol submit\n",
        "submit_button.on_click(submit_action)\n",
        "\n",
        "# Menampilkan dropdown kategori, kolom input rasa, dan tombol submit\n",
        "display(category_dropdown, taste_input, submit_button, output)"
      ],
      "metadata": {
        "colab": {
          "base_uri": "https://localhost:8080/",
          "height": 111,
          "referenced_widgets": [
            "8949845744a34d72b33c451025e7eeac",
            "0b00c02578ff4c879d22886ccd034321",
            "bf75845141524ca38dc5f08a764ce732",
            "e4b30dc8623646a39ff96ec088664283",
            "bab5e053d0164221a990ab3a0d7ef4dd",
            "1ab0f8ae44ad4861b85a2bb423bdc46d",
            "c8e2b4a4e5a542d8a80cb9b6cfd4b130",
            "1f636ba1c57644078673340def678d25",
            "d60ed73543d74e18bc55ef031c310025",
            "cfea72a509fd47e384dad11e6df3cdf3",
            "a3ea281a271b48d694234f14e725433f"
          ]
        },
        "id": "WvK1Q3oRGN2O",
        "outputId": "4b7cf24c-4d41-43f2-e20f-437b32f94447"
      },
      "execution_count": null,
      "outputs": [
        {
          "output_type": "display_data",
          "data": {
            "text/plain": [
              "Dropdown(description='Category:', options=('Makanan Berat', 'Makanan Ringan', 'Jajanan', 'Minuman'), value='Ma…"
            ],
            "application/vnd.jupyter.widget-view+json": {
              "version_major": 2,
              "version_minor": 0,
              "model_id": "8949845744a34d72b33c451025e7eeac"
            }
          },
          "metadata": {}
        },
        {
          "output_type": "display_data",
          "data": {
            "text/plain": [
              "Text(value='', description='Taste:', placeholder='Enter taste')"
            ],
            "application/vnd.jupyter.widget-view+json": {
              "version_major": 2,
              "version_minor": 0,
              "model_id": "e4b30dc8623646a39ff96ec088664283"
            }
          },
          "metadata": {}
        },
        {
          "output_type": "display_data",
          "data": {
            "text/plain": [
              "Button(description='Submit', icon='check', style=ButtonStyle(), tooltip='Click me')"
            ],
            "application/vnd.jupyter.widget-view+json": {
              "version_major": 2,
              "version_minor": 0,
              "model_id": "c8e2b4a4e5a542d8a80cb9b6cfd4b130"
            }
          },
          "metadata": {}
        },
        {
          "output_type": "display_data",
          "data": {
            "text/plain": [
              "Output()"
            ],
            "application/vnd.jupyter.widget-view+json": {
              "version_major": 2,
              "version_minor": 0,
              "model_id": "cfea72a509fd47e384dad11e6df3cdf3"
            }
          },
          "metadata": {}
        }
      ]
    },
    {
      "cell_type": "markdown",
      "metadata": {
        "id": "vR4PVXZEGWCk"
      },
      "source": [
        "#Rekomendasi restoran bedasarkan makanan yang dipilih"
      ]
    },
    {
      "cell_type": "code",
      "execution_count": null,
      "metadata": {
        "id": "ML6nYQYDGDXM"
      },
      "outputs": [],
      "source": [
        "makanan_data['Features'] = makanan_data['makanan/minuman']\n",
        "\n",
        "# Encode data teks menggunakan TF-IDF\n",
        "tfidf = TfidfVectorizer()\n",
        "tfidf_matrix_mamin= tfidf.fit_transform(makanan_data['Features'])"
      ]
    },
    {
      "cell_type": "markdown",
      "metadata": {
        "id": "LgUbZGiVnVmv"
      },
      "source": [
        "Cosine Similarity"
      ]
    },
    {
      "cell_type": "code",
      "execution_count": null,
      "metadata": {
        "collapsed": true,
        "id": "-_NE9H4WnP3M",
        "colab": {
          "base_uri": "https://localhost:8080/"
        },
        "outputId": "73ce62db-8c6e-421b-f845-cbc4c3643291"
      },
      "outputs": [
        {
          "output_type": "stream",
          "name": "stderr",
          "text": [
            "<ipython-input-14-6d2ef7f6225e>:2: SettingWithCopyWarning: \n",
            "A value is trying to be set on a copy of a slice from a DataFrame\n",
            "\n",
            "See the caveats in the documentation: https://pandas.pydata.org/pandas-docs/stable/user_guide/indexing.html#returning-a-view-versus-a-copy\n",
            "  restoran_data['variasi_makanan'].fillna('', inplace=True)\n"
          ]
        }
      ],
      "source": [
        "# Menangani nilai NaN dalam kolom 'variasi_makanan'\n",
        "restoran_data['variasi_makanan'].fillna('', inplace=True)\n",
        "\n",
        "# matrix TF-IDF untuk data restoran\n",
        "tfidf_matrix_restaurant = tfidf.transform(restoran_data['variasi_makanan'])\n",
        "\n",
        "# Menghitung cosine similarity antara matriks TF-IDF makanan dan restoran\n",
        "cosine_sim = cosine_similarity(tfidf_matrix_mamin, tfidf_matrix_restaurant)\n",
        "\n",
        "# Fungsi untuk merekomendasikan restoran bedasarkan makanan yang dipilih\n",
        "def recommend_restaurants_for_food_containing_keyword(keyword, cosine_sim, makanan_data, restoran_data):\n",
        "    # Menemukan indeks makanan yang mengandung kata kunci\n",
        "    food_indices = makanan_data[makanan_data['makanan/minuman'].str.contains(keyword, case=False, na=False)].index.tolist()\n",
        "\n",
        "    # Daftar restoran yang direkomendasikan dengan skor cosine similarity\n",
        "    recommended_restaurants_with_scores = []\n",
        "\n",
        "    for food_index in food_indices:\n",
        "        # Hitung dan urutkan skor cosine similarity untuk setiap makanan\n",
        "        sim_scores = list(enumerate(cosine_sim[food_index]))\n",
        "        sim_scores = sorted(sim_scores, key=lambda x: x[1], reverse=True)\n",
        "\n",
        "        # Mendapatkan 5 restoran teratas yang paling mirip dengan skor cosine similarity untuk setiap makanan\n",
        "        top_similar_restaurants = sim_scores[:5]\n",
        "\n",
        "        for idx, score in top_similar_restaurants:\n",
        "            recommended_restaurants_with_scores.append((restoran_data.iloc[idx]['nama_restoran'],\n",
        "                                                        score, makanan_data.iloc[food_index]['makanan/minuman']))\n",
        "\n",
        "    # Mengurutkan daftar akhir bedasarkan skor cosine similarity\n",
        "    recommended_restaurants_with_scores.sort(key=lambda x: x[1], reverse=True)\n",
        "\n",
        "    # Mendapatkan rekomendasi unik untuk menghindari adanya duplikasi\n",
        "    unique_recommendations = []\n",
        "    seen_restaurants = set()\n",
        "    for rec in recommended_restaurants_with_scores:\n",
        "        if rec[0] not in seen_restaurants:\n",
        "            seen_restaurants.add(rec[0])\n",
        "            unique_recommendations.append(rec)\n",
        "\n",
        "    return unique_recommendations[:5]"
      ]
    },
    {
      "cell_type": "markdown",
      "source": [
        "Inputan makanan yang dipilih"
      ],
      "metadata": {
        "id": "7ve49Ba8ZpfX"
      }
    },
    {
      "cell_type": "code",
      "execution_count": null,
      "metadata": {
        "id": "DsF5Ci72niZn",
        "colab": {
          "base_uri": "https://localhost:8080/"
        },
        "outputId": "8d9abcfa-eabb-4174-c1aa-b576611427bd"
      },
      "outputs": [
        {
          "output_type": "stream",
          "name": "stdout",
          "text": [
            "Rekomendasi restoran yang menyediakan makanan/minuman yang memiliki menu 'kue adrem' :\n",
            "- Lupis Mbah Satinem  menyediakan Kue Adrem \n",
            "- Kipo Bu Djito ꦏꦶꦥꦺꦴꦧꦸꦣ꧀ꦗꦶꦠꦺꦴ menyediakan Kue Adrem \n",
            "- Panada & Puding RoBin menyediakan Kue Adrem \n",
            "- Kue Bandung & Pukis Ko Ayung Kotabaru menyediakan Kue Adrem \n",
            "- Lapis Legit Langgeng Sari menyediakan Kue Adrem \n"
          ]
        }
      ],
      "source": [
        "# Memilih makanan\n",
        "selected_food = 'kue adrem'\n",
        "\n",
        "# Merekomendasikan restoran\n",
        "recommended_restaurants_with_scores = recommend_restaurants_for_food_containing_keyword(selected_food, cosine_sim, makanan_data, restoran_data)\n",
        "\n",
        "print(f\"Rekomendasi restoran yang menyediakan makanan/minuman yang memiliki menu '{selected_food}' :\")\n",
        "for nama_restoran, score, variasi_makanan in recommended_restaurants_with_scores:\n",
        "    print(f\"- {nama_restoran} menyediakan {variasi_makanan}\")"
      ]
    },
    {
      "cell_type": "code",
      "source": [
        "model.save('modelrecom.h5')"
      ],
      "metadata": {
        "id": "MOL_67V3YqBW",
        "colab": {
          "base_uri": "https://localhost:8080/"
        },
        "outputId": "fb09c09f-a53e-4227-88f8-153dc0cf870e"
      },
      "execution_count": null,
      "outputs": [
        {
          "output_type": "stream",
          "name": "stderr",
          "text": [
            "/usr/local/lib/python3.10/dist-packages/keras/src/engine/training.py:3103: UserWarning: You are saving your model as an HDF5 file via `model.save()`. This file format is considered legacy. We recommend using instead the native Keras format, e.g. `model.save('my_model.keras')`.\n",
            "  saving_api.save_model(\n"
          ]
        }
      ]
    },
    {
      "cell_type": "code",
      "source": [
        "# Simpan file .pkl\n",
        "\n",
        "import pickle\n",
        "with open('modelrecom.pkl','wb') as file:\n",
        "  pickle.dump(model, file)"
      ],
      "metadata": {
        "id": "Gp_-7jG_hCnk"
      },
      "execution_count": null,
      "outputs": []
    }
  ],
  "metadata": {
    "colab": {
      "provenance": []
    },
    "kernelspec": {
      "display_name": "Python 3",
      "name": "python3"
    },
    "language_info": {
      "name": "python"
    },
    "widgets": {
      "application/vnd.jupyter.widget-state+json": {
        "8949845744a34d72b33c451025e7eeac": {
          "model_module": "@jupyter-widgets/controls",
          "model_name": "DropdownModel",
          "model_module_version": "1.5.0",
          "state": {
            "_dom_classes": [],
            "_model_module": "@jupyter-widgets/controls",
            "_model_module_version": "1.5.0",
            "_model_name": "DropdownModel",
            "_options_labels": [
              "Makanan Berat",
              "Makanan Ringan",
              "Jajanan",
              "Minuman"
            ],
            "_view_count": null,
            "_view_module": "@jupyter-widgets/controls",
            "_view_module_version": "1.5.0",
            "_view_name": "DropdownView",
            "description": "Category:",
            "description_tooltip": null,
            "disabled": false,
            "index": 0,
            "layout": "IPY_MODEL_0b00c02578ff4c879d22886ccd034321",
            "style": "IPY_MODEL_bf75845141524ca38dc5f08a764ce732"
          }
        },
        "0b00c02578ff4c879d22886ccd034321": {
          "model_module": "@jupyter-widgets/base",
          "model_name": "LayoutModel",
          "model_module_version": "1.2.0",
          "state": {
            "_model_module": "@jupyter-widgets/base",
            "_model_module_version": "1.2.0",
            "_model_name": "LayoutModel",
            "_view_count": null,
            "_view_module": "@jupyter-widgets/base",
            "_view_module_version": "1.2.0",
            "_view_name": "LayoutView",
            "align_content": null,
            "align_items": null,
            "align_self": null,
            "border": null,
            "bottom": null,
            "display": null,
            "flex": null,
            "flex_flow": null,
            "grid_area": null,
            "grid_auto_columns": null,
            "grid_auto_flow": null,
            "grid_auto_rows": null,
            "grid_column": null,
            "grid_gap": null,
            "grid_row": null,
            "grid_template_areas": null,
            "grid_template_columns": null,
            "grid_template_rows": null,
            "height": null,
            "justify_content": null,
            "justify_items": null,
            "left": null,
            "margin": null,
            "max_height": null,
            "max_width": null,
            "min_height": null,
            "min_width": null,
            "object_fit": null,
            "object_position": null,
            "order": null,
            "overflow": null,
            "overflow_x": null,
            "overflow_y": null,
            "padding": null,
            "right": null,
            "top": null,
            "visibility": null,
            "width": null
          }
        },
        "bf75845141524ca38dc5f08a764ce732": {
          "model_module": "@jupyter-widgets/controls",
          "model_name": "DescriptionStyleModel",
          "model_module_version": "1.5.0",
          "state": {
            "_model_module": "@jupyter-widgets/controls",
            "_model_module_version": "1.5.0",
            "_model_name": "DescriptionStyleModel",
            "_view_count": null,
            "_view_module": "@jupyter-widgets/base",
            "_view_module_version": "1.2.0",
            "_view_name": "StyleView",
            "description_width": ""
          }
        },
        "e4b30dc8623646a39ff96ec088664283": {
          "model_module": "@jupyter-widgets/controls",
          "model_name": "TextModel",
          "model_module_version": "1.5.0",
          "state": {
            "_dom_classes": [],
            "_model_module": "@jupyter-widgets/controls",
            "_model_module_version": "1.5.0",
            "_model_name": "TextModel",
            "_view_count": null,
            "_view_module": "@jupyter-widgets/controls",
            "_view_module_version": "1.5.0",
            "_view_name": "TextView",
            "continuous_update": true,
            "description": "Taste:",
            "description_tooltip": null,
            "disabled": false,
            "layout": "IPY_MODEL_bab5e053d0164221a990ab3a0d7ef4dd",
            "placeholder": "Enter taste",
            "style": "IPY_MODEL_1ab0f8ae44ad4861b85a2bb423bdc46d",
            "value": ""
          }
        },
        "bab5e053d0164221a990ab3a0d7ef4dd": {
          "model_module": "@jupyter-widgets/base",
          "model_name": "LayoutModel",
          "model_module_version": "1.2.0",
          "state": {
            "_model_module": "@jupyter-widgets/base",
            "_model_module_version": "1.2.0",
            "_model_name": "LayoutModel",
            "_view_count": null,
            "_view_module": "@jupyter-widgets/base",
            "_view_module_version": "1.2.0",
            "_view_name": "LayoutView",
            "align_content": null,
            "align_items": null,
            "align_self": null,
            "border": null,
            "bottom": null,
            "display": null,
            "flex": null,
            "flex_flow": null,
            "grid_area": null,
            "grid_auto_columns": null,
            "grid_auto_flow": null,
            "grid_auto_rows": null,
            "grid_column": null,
            "grid_gap": null,
            "grid_row": null,
            "grid_template_areas": null,
            "grid_template_columns": null,
            "grid_template_rows": null,
            "height": null,
            "justify_content": null,
            "justify_items": null,
            "left": null,
            "margin": null,
            "max_height": null,
            "max_width": null,
            "min_height": null,
            "min_width": null,
            "object_fit": null,
            "object_position": null,
            "order": null,
            "overflow": null,
            "overflow_x": null,
            "overflow_y": null,
            "padding": null,
            "right": null,
            "top": null,
            "visibility": null,
            "width": null
          }
        },
        "1ab0f8ae44ad4861b85a2bb423bdc46d": {
          "model_module": "@jupyter-widgets/controls",
          "model_name": "DescriptionStyleModel",
          "model_module_version": "1.5.0",
          "state": {
            "_model_module": "@jupyter-widgets/controls",
            "_model_module_version": "1.5.0",
            "_model_name": "DescriptionStyleModel",
            "_view_count": null,
            "_view_module": "@jupyter-widgets/base",
            "_view_module_version": "1.2.0",
            "_view_name": "StyleView",
            "description_width": ""
          }
        },
        "c8e2b4a4e5a542d8a80cb9b6cfd4b130": {
          "model_module": "@jupyter-widgets/controls",
          "model_name": "ButtonModel",
          "model_module_version": "1.5.0",
          "state": {
            "_dom_classes": [],
            "_model_module": "@jupyter-widgets/controls",
            "_model_module_version": "1.5.0",
            "_model_name": "ButtonModel",
            "_view_count": null,
            "_view_module": "@jupyter-widgets/controls",
            "_view_module_version": "1.5.0",
            "_view_name": "ButtonView",
            "button_style": "",
            "description": "Submit",
            "disabled": false,
            "icon": "check",
            "layout": "IPY_MODEL_1f636ba1c57644078673340def678d25",
            "style": "IPY_MODEL_d60ed73543d74e18bc55ef031c310025",
            "tooltip": "Click me"
          }
        },
        "1f636ba1c57644078673340def678d25": {
          "model_module": "@jupyter-widgets/base",
          "model_name": "LayoutModel",
          "model_module_version": "1.2.0",
          "state": {
            "_model_module": "@jupyter-widgets/base",
            "_model_module_version": "1.2.0",
            "_model_name": "LayoutModel",
            "_view_count": null,
            "_view_module": "@jupyter-widgets/base",
            "_view_module_version": "1.2.0",
            "_view_name": "LayoutView",
            "align_content": null,
            "align_items": null,
            "align_self": null,
            "border": null,
            "bottom": null,
            "display": null,
            "flex": null,
            "flex_flow": null,
            "grid_area": null,
            "grid_auto_columns": null,
            "grid_auto_flow": null,
            "grid_auto_rows": null,
            "grid_column": null,
            "grid_gap": null,
            "grid_row": null,
            "grid_template_areas": null,
            "grid_template_columns": null,
            "grid_template_rows": null,
            "height": null,
            "justify_content": null,
            "justify_items": null,
            "left": null,
            "margin": null,
            "max_height": null,
            "max_width": null,
            "min_height": null,
            "min_width": null,
            "object_fit": null,
            "object_position": null,
            "order": null,
            "overflow": null,
            "overflow_x": null,
            "overflow_y": null,
            "padding": null,
            "right": null,
            "top": null,
            "visibility": null,
            "width": null
          }
        },
        "d60ed73543d74e18bc55ef031c310025": {
          "model_module": "@jupyter-widgets/controls",
          "model_name": "ButtonStyleModel",
          "model_module_version": "1.5.0",
          "state": {
            "_model_module": "@jupyter-widgets/controls",
            "_model_module_version": "1.5.0",
            "_model_name": "ButtonStyleModel",
            "_view_count": null,
            "_view_module": "@jupyter-widgets/base",
            "_view_module_version": "1.2.0",
            "_view_name": "StyleView",
            "button_color": null,
            "font_weight": ""
          }
        },
        "cfea72a509fd47e384dad11e6df3cdf3": {
          "model_module": "@jupyter-widgets/output",
          "model_name": "OutputModel",
          "model_module_version": "1.0.0",
          "state": {
            "_dom_classes": [],
            "_model_module": "@jupyter-widgets/output",
            "_model_module_version": "1.0.0",
            "_model_name": "OutputModel",
            "_view_count": null,
            "_view_module": "@jupyter-widgets/output",
            "_view_module_version": "1.0.0",
            "_view_name": "OutputView",
            "layout": "IPY_MODEL_a3ea281a271b48d694234f14e725433f",
            "msg_id": "",
            "outputs": []
          }
        },
        "a3ea281a271b48d694234f14e725433f": {
          "model_module": "@jupyter-widgets/base",
          "model_name": "LayoutModel",
          "model_module_version": "1.2.0",
          "state": {
            "_model_module": "@jupyter-widgets/base",
            "_model_module_version": "1.2.0",
            "_model_name": "LayoutModel",
            "_view_count": null,
            "_view_module": "@jupyter-widgets/base",
            "_view_module_version": "1.2.0",
            "_view_name": "LayoutView",
            "align_content": null,
            "align_items": null,
            "align_self": null,
            "border": null,
            "bottom": null,
            "display": null,
            "flex": null,
            "flex_flow": null,
            "grid_area": null,
            "grid_auto_columns": null,
            "grid_auto_flow": null,
            "grid_auto_rows": null,
            "grid_column": null,
            "grid_gap": null,
            "grid_row": null,
            "grid_template_areas": null,
            "grid_template_columns": null,
            "grid_template_rows": null,
            "height": null,
            "justify_content": null,
            "justify_items": null,
            "left": null,
            "margin": null,
            "max_height": null,
            "max_width": null,
            "min_height": null,
            "min_width": null,
            "object_fit": null,
            "object_position": null,
            "order": null,
            "overflow": null,
            "overflow_x": null,
            "overflow_y": null,
            "padding": null,
            "right": null,
            "top": null,
            "visibility": null,
            "width": null
          }
        }
      }
    }
  },
  "nbformat": 4,
  "nbformat_minor": 0
}